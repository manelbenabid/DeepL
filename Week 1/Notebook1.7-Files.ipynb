{
 "cells": [
  {
   "cell_type": "markdown",
   "metadata": {},
   "source": [
    "\n",
    "# Fundamentals of Deep Learning \n",
    "\n",
    "*Notebook 1.7: Files*"
   ]
  },
  {
   "cell_type": "code",
   "execution_count": null,
   "metadata": {
    "scrolled": true
   },
   "outputs": [],
   "source": [
    "print(\"Ready?\")"
   ]
  },
  {
   "cell_type": "markdown",
   "metadata": {},
   "source": [
    "The best way to learn how to program is to learn is by doing. In this workshop you will be asked to write a lot of code. Click any block of code in this tutorial, such as the one above, and press ctrl+enter (shift+enter on a Mac) to run it. Let's begin right away and write our first little program!  "
   ]
  },
  {
   "cell_type": "markdown",
   "metadata": {},
   "source": [
    "Reading files. Use the `open` command to open a file, and `close` method to close it:"
   ]
  },
  {
   "cell_type": "code",
   "execution_count": 66,
   "metadata": {},
   "outputs": [
    {
     "name": "stdout",
     "output_type": "stream",
     "text": [
      "Give me a file name: alice.txt\n"
     ]
    }
   ],
   "source": [
    "filename = input(\"Give me a file name: \")"
   ]
  },
  {
   "cell_type": "code",
   "execution_count": 67,
   "metadata": {},
   "outputs": [],
   "source": [
    "f = open(filename,\"r\")\n",
    "f.close()"
   ]
  },
  {
   "cell_type": "markdown",
   "metadata": {},
   "source": [
    "Note that files are automatically closed when the object (`f` in this case) disappears. However given that python does garbage collection at infrequent intervals we might want to do the following:"
   ]
  },
  {
   "cell_type": "code",
   "execution_count": 77,
   "metadata": {},
   "outputs": [],
   "source": [
    "def readHead(filename):\n",
    "    with open(filename,\"r\") as f:\n",
    "        print(f.readline()) # print the first line of the file\n",
    "        print(f.readline()) # print the second line of the file \n",
    "        print(f.readline()) # print the third line of the file \n",
    "        return"
   ]
  },
  {
   "cell_type": "code",
   "execution_count": 78,
   "metadata": {},
   "outputs": [
    {
     "name": "stdout",
     "output_type": "stream",
     "text": [
      "Emma Woodhouse, handsome, clever, and rich, with a comfortable home\n",
      "\n",
      "and happy disposition, seemed to unite some of the best blessings\n",
      "\n",
      "of existence; and had lived nearly twenty-one years in the world\n",
      "\n"
     ]
    }
   ],
   "source": [
    "readHead(filename)"
   ]
  },
  {
   "cell_type": "markdown",
   "metadata": {},
   "source": [
    "In this form the file f is automatically closed when we hit the return (by the `with` statement) as soon as we hit the return statement or if we were to throw an exception.\n",
    "\n",
    "To read lines of a file we can use `f.readlines()` for a file `f` or simply iterate over the lines in the file.\n",
    "Use `.strip()` to remove leading/trailing spaces (or other characters with an optional argument). \n",
    "The following prints only the lines from the file that contain exactly 10 words:"
   ]
  },
  {
   "cell_type": "code",
   "execution_count": 81,
   "metadata": {},
   "outputs": [
    {
     "name": "stdout",
     "output_type": "stream",
     "text": [
      "Emma Woodhouse, handsome, clever, and rich, with a comfortable home\n",
      "\n",
      "indulgent father; and had, in consequence of her sister's marriage,\n",
      "\n",
      "remembrance of her caresses; and her place had been supplied\n",
      "\n"
     ]
    }
   ],
   "source": [
    "with open(filename,\"r\") as f:\n",
    "    for line in f:\n",
    "        words =  line.strip().split()\n",
    "        if len(words) == 10: \n",
    "            print(line)"
   ]
  },
  {
   "cell_type": "markdown",
   "metadata": {},
   "source": [
    "The line containse a `\\n` and lots of spaces. We might want to just re-assemble the list of words into a string where words are separated by a single space:"
   ]
  },
  {
   "cell_type": "code",
   "execution_count": 84,
   "metadata": {},
   "outputs": [
    {
     "name": "stdout",
     "output_type": "stream",
     "text": [
      "Emma Woodhouse, handsome, clever, and rich, with a comfortable home\n",
      "indulgent father; and had, in consequence of her sister's marriage,\n",
      "remembrance of her caresses; and her place had been supplied\n"
     ]
    }
   ],
   "source": [
    "with open(filename,\"r\") as f:\n",
    "    for line in f:\n",
    "        words =  line.strip().split()\n",
    "        if len(words) ==10:\n",
    "            print(\" \".join(words))"
   ]
  },
  {
   "cell_type": "code",
   "execution_count": 86,
   "metadata": {},
   "outputs": [
    {
     "name": "stdout",
     "output_type": "stream",
     "text": [
      "Emma Woodhouse, handsome, clever, and rich, with a comfortable home\n",
      "and happy disposition, seemed to\n"
     ]
    }
   ],
   "source": [
    "wholeText = open(filename,\"r\").read()\n",
    "print(wholeText[:100]) # first 100 characters of our textfile"
   ]
  },
  {
   "cell_type": "markdown",
   "metadata": {},
   "source": [
    "Writing files can be done very similarly. You can open a file for writing using `\"w\"` instead of `\"r\"` in the `f=open(filename,\"w\")` command or use `\"a\"` to _append_ to the end of the file.\n",
    "\n",
    "Now `f.write(wholeText)` will write all of the text.\n",
    "Or use `print(\"hello\",file=f)` to print just a small amount of text.\n",
    "\n",
    "Note that when writing text is buffered, so unless you use `print(\"hello\",file=f,flush=True)` the text may not appear in the file until after you close it (and may get lost entirely if your program crashes before you manage to close the file - but that is rare)."
   ]
  },
  {
   "cell_type": "markdown",
   "metadata": {},
   "source": [
    "### Shell utilities\n",
    "To do more complicated things with sets of files such as copying renaming or the like, use `shutil`. Here we will rename every file from `.log` to `.txt`"
   ]
  },
  {
   "cell_type": "code",
   "execution_count": 87,
   "metadata": {},
   "outputs": [
    {
     "name": "stdout",
     "output_type": "stream",
     "text": [
      "lesson 3_12_files_hands-on.ipynb\n",
      "scipy.ipynb\n",
      "Module II Assessment Solution.ipynb\n",
      "lesson 3_3_comprehension_hands-on.ipynb\n",
      "lesson 3_9_scope.ipynb\n",
      "plot.ipynb\n",
      "project.ipynb\n",
      "Module III Assessment.ipynb\n",
      "lesson 3_11_files.ipynb\n",
      "numpy.ipynb\n",
      "lesson 3_5_Objects.ipynb\n",
      "lesson 3_7_scope.ipynb\n",
      "Module III Assessment Solution.ipynb\n"
     ]
    }
   ],
   "source": [
    "import shutil as sh\n",
    "import os\n",
    "for filename in os.listdir():\n",
    "    if filename.endswith(\".ipynb\"): # only move Python notebook files\n",
    "        print(filename)"
   ]
  },
  {
   "cell_type": "code",
   "execution_count": 88,
   "metadata": {},
   "outputs": [
    {
     "data": {
      "text/plain": [
       "['lesson 3_12_files_hands-on.ipynb',\n",
       " 'lesson 3_13_scientific_computations.pptx',\n",
       " 'scipy.ipynb',\n",
       " 'lesson 3_16_Scipy.pptx',\n",
       " 'lesson 3_15_Matplotlib.pptx',\n",
       " 'Module II Assessment Solution.ipynb',\n",
       " 'lesson 3_3_comprehension_hands-on.ipynb',\n",
       " '.DS_Store',\n",
       " 'lesson 3_9_scope.ipynb',\n",
       " 'lesson 3_2_comprehension.pptx']"
      ]
     },
     "execution_count": 88,
     "metadata": {},
     "output_type": "execute_result"
    }
   ],
   "source": [
    "os.listdir()[:10]"
   ]
  },
  {
   "cell_type": "markdown",
   "metadata": {},
   "source": [
    "-------------"
   ]
  },
  {
   "cell_type": "markdown",
   "metadata": {},
   "source": [
    "Congratulations!  You have completed the hands-on lab!"
   ]
  },
  {
   "cell_type": "markdown",
   "metadata": {},
   "source": [
    "-------------"
   ]
  }
 ],
 "metadata": {
  "kernelspec": {
   "display_name": "Python 3",
   "language": "python",
   "name": "python3"
  },
  "language_info": {
   "codemirror_mode": {
    "name": "ipython",
    "version": 3
   },
   "file_extension": ".py",
   "mimetype": "text/x-python",
   "name": "python",
   "nbconvert_exporter": "python",
   "pygments_lexer": "ipython3",
   "version": "3.9.6"
  }
 },
 "nbformat": 4,
 "nbformat_minor": 4
}
