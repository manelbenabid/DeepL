{
 "cells": [
  {
   "cell_type": "markdown",
   "metadata": {},
   "source": [
    "\n",
    "# Fundamentals of Deep Learning \n",
    "\n",
    "*Week 1 Gradded Assessment: Estimate the Cost of a House Using Perceptrons*"
   ]
  },
  {
   "cell_type": "markdown",
   "metadata": {
    "colab_type": "text",
    "id": "mw2VBrBcgvGa"
   },
   "source": [
    "Building on Notebook 1.12, construct a neural network that predicts the price of a house according to a simple formula whereby a 1 bedroom house costs 100k, a 2 bedroom house costs 150k etc.  This is refelected in the inputs.\n",
    "\n",
    "Create a a neural network that learns this relationship so that it would predict a 7 bedroom house as costing close to 400k etc.  Please note that the house prices, ys, are scaled down as a the network would work better.  You only need to use one layer with one perceptron.  Adjust the final answer after prediction.  Use appropriate hyperparameters."
   ]
  },
  {
   "cell_type": "code",
   "execution_count": null,
   "metadata": {},
   "outputs": [],
   "source": [
    "import tensorflow as tf\n",
    "import numpy as np\n",
    "from tensorflow import keras"
   ]
  },
  {
   "cell_type": "code",
   "execution_count": null,
   "metadata": {
    "colab": {},
    "colab_type": "code",
    "id": "PUNO2E6SeURH"
   },
   "outputs": [],
   "source": [
    "# GRADED FUNCTION: house_model\n",
    "def house_model(y_new):\n",
    "    # train on houses that have up to 6 bedrooms.\n",
    "    xs = [1,   2,   3,   4,   5,   6]\n",
    "    ys = [1.0, 1.5, 2.0, 2.5, 3.0, 3.5]    \n",
    "    model = tf.keras.Sequential([keras.layers.Dense(units=1, input_shape=[1])])\n",
    "    model.compile(..., ...)\n",
    "    model.fit(..., ys, epochs=?)\n",
    "    return (model.predict(y_new)[0])"
   ]
  },
  {
   "cell_type": "code",
   "execution_count": null,
   "metadata": {},
   "outputs": [],
   "source": [
    "prediction = house_model([7.0])*????\n",
    "print(prediction)"
   ]
  }
 ],
 "metadata": {
  "coursera": {
   "course_slug": "introduction-tensorflow",
   "graded_item_id": "jRjw8",
   "launcher_item_id": "YoQKl"
  },
  "kernelspec": {
   "display_name": "Python 3",
   "language": "python",
   "name": "python3"
  },
  "language_info": {
   "codemirror_mode": {
    "name": "ipython",
    "version": 3
   },
   "file_extension": ".py",
   "mimetype": "text/x-python",
   "name": "python",
   "nbconvert_exporter": "python",
   "pygments_lexer": "ipython3",
   "version": "3.9.6"
  }
 },
 "nbformat": 4,
 "nbformat_minor": 4
}
