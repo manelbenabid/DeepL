{
  "cells": [
    {
      "cell_type": "markdown",
      "metadata": {
        "id": "qGP0jfiCKk3P"
      },
      "source": [
        "\n",
        "# Fundamentals of Deep Learning\n",
        "\n",
        "*Notebook 1.12: Using the perceptron for linear fitting*"
      ]
    },
    {
      "cell_type": "markdown",
      "metadata": {
        "id": "ZIAkIlfmCe1B"
      },
      "source": [
        "# Hello Neural Networks!"
      ]
    },
    {
      "cell_type": "markdown",
      "metadata": {
        "id": "fA93WUy1zzWf"
      },
      "source": [
        "In this notebook, we will perform linear regression using a single neuron.  We will be using `TensorFlow` and `Keras`; however, do not worry about the details of the language for the moment as we will get back to these later on.\n",
        "\n",
        "The simple mode we will be looking at will learn the relationship between two numbers and will be used to predict other numbers. For example, if you were writing code for a function like this:\n",
        "\n",
        "\n",
        "```\n",
        "y = mx + b\n",
        "```\n",
        "\n",
        "How would you train a neural network to do the equivalent task? Well, we said using data, a lot of data! The approach is to feed the model with a set of Xs, and a set of Ys, it should be able to figure out the relationship between them."
      ]
    },
    {
      "cell_type": "markdown",
      "metadata": {
        "id": "DzbtdRcZDO9B"
      },
      "source": [
        "## Imports\n",
        "\n",
        "Let's start with our imports. Here we are importing 'TensorFlow' and calling it tf for ease of use.  We do of course need to import `numpy`, which helps us to represent our data as lists easily and quickly.  Finally, the framework for defining a neural network as a set of Sequential layers is called keras, so we import that too."
      ]
    },
    {
      "cell_type": "code",
      "execution_count": 1,
      "metadata": {
        "id": "BlQCLrxA_27d"
      },
      "outputs": [],
      "source": [
        "#!pip install tensorflow==2.5.0"
      ]
    },
    {
      "cell_type": "code",
      "execution_count": 2,
      "metadata": {
        "id": "X9uIpOS2zx7k",
        "outputId": "aa19b3ac-242d-4a7d-dd33-6f92063bee78",
        "colab": {
          "base_uri": "https://localhost:8080/"
        }
      },
      "outputs": [
        {
          "output_type": "stream",
          "name": "stdout",
          "text": [
            "2.15.0\n"
          ]
        }
      ],
      "source": [
        "import tensorflow as tf\n",
        "import numpy as np\n",
        "from tensorflow import keras\n",
        "\n",
        "print(tf.__version__)"
      ]
    },
    {
      "cell_type": "markdown",
      "metadata": {
        "id": "wwJGmDrQ0EoB"
      },
      "source": [
        "## Define and Compile the Neural Network\n",
        "\n",
        "Next we will create the simplest possible neural network. It has 1 layer, and that layer has 1 neuron, and the input shape to it is just 1 value."
      ]
    },
    {
      "cell_type": "code",
      "execution_count": 3,
      "metadata": {
        "id": "kQFAr_xo0M4T"
      },
      "outputs": [],
      "source": [
        "model = tf.keras.Sequential([keras.layers.Dense(units=1, input_shape=[1])])"
      ]
    },
    {
      "cell_type": "markdown",
      "metadata": {
        "id": "KhjZjZ-c0Ok9"
      },
      "source": [
        "Now we compile our Neural Network. When we do so, we have to specify 2 functions, a loss and an optimizer.\n",
        "\n",
        "If you've seen lots of math for machine learning, here's where it's usually used, but in this case it's nicely encapsulated in functions for you. But what happens here — let's explain...\n",
        "\n",
        "We know that in our function, the relationship between the numbers is y=2x+1.\n",
        "\n",
        "When the computer is trying to 'learn' that, it makes a guess...maybe y=10x+10. The LOSS function measures the guessed answers against the known correct answers and measures how well or how badly it did.\n",
        "\n",
        "It then uses the OPTIMIZER function to make another guess. Based on how the loss function went, it will try to minimize the loss. At that point maybe it will come up with somehting like y=5x+5, which, while still pretty bad, is closer to the correct result (i.e. the loss is lower)\n",
        "\n",
        "It will repeat this for the number of EPOCHS which you will see shortly. But first, here's how we tell it to use 'MEAN SQUARED ERROR' for the loss and 'STOCHASTIC GRADIENT DESCENT' for the optimizer. You don't need to understand the math for these yet, but you can see that they work! :)\n",
        "\n",
        "Over time you will learn the different and appropriate loss and optimizer functions for different scenarios.\n"
      ]
    },
    {
      "cell_type": "code",
      "execution_count": 4,
      "metadata": {
        "id": "m8YQN1H41L-Y"
      },
      "outputs": [],
      "source": [
        "model.compile(optimizer='sgd', loss='mean_squared_error')"
      ]
    },
    {
      "cell_type": "markdown",
      "metadata": {
        "id": "5QyOUhFw1OUX"
      },
      "source": [
        "## Providing the Data\n",
        "\n",
        "Next up we'll feed in some data. In this case we are taking 6 xs and 6ys. You can see that the relationship between these is that y=2x-1, so where x = -1, y=-3 etc. etc.\n",
        "\n",
        "A python library called 'Numpy' provides lots of array type data structures that are a defacto standard way of doing it. We declare that we want to use these by specifying the values as an np.array[]"
      ]
    },
    {
      "cell_type": "code",
      "execution_count": 5,
      "metadata": {
        "id": "4Dxk4q-jzEy4"
      },
      "outputs": [],
      "source": [
        "#xs = np.array([1.0,  2.0], dtype=float)\n",
        "#ys = np.array([3.0, 5], dtype=float)"
      ]
    },
    {
      "cell_type": "markdown",
      "metadata": {
        "id": "3nLiXaU7Kk3U"
      },
      "source": [
        "### We will try this one next, on a relatively larger set."
      ]
    },
    {
      "cell_type": "markdown",
      "metadata": {
        "id": "LCzAb107Kk3U"
      },
      "source": [
        "Comment the above data set and try this one now:"
      ]
    },
    {
      "cell_type": "code",
      "execution_count": 6,
      "metadata": {
        "id": "r4wOOGJYKk3U"
      },
      "outputs": [],
      "source": [
        "xs = np.array([-1.0,  0.0, 1.0, 2.0, 3.0, 4.0], dtype=float)\n",
        "ys = np.array([-3.0, -1.0, 1.0, 3.0, 5.0, 7.0], dtype=float)"
      ]
    },
    {
      "cell_type": "markdown",
      "metadata": {
        "id": "n_YcWRElnM_b"
      },
      "source": [
        "# Training the Neural Network"
      ]
    },
    {
      "cell_type": "markdown",
      "metadata": {
        "id": "c-Jk4dG91dvD"
      },
      "source": [
        "The process of training the neural network, where it 'learns' the relationship between the Xs and Ys is in the **model.fit**  call. This is where it will go through the loop we spoke about above, making a guess, measuring how good or bad it is (aka the loss), using the opimizer to make another guess etc. It will do it for the number of epochs you specify. When you run this code, you'll see the loss on the right hand side."
      ]
    },
    {
      "cell_type": "code",
      "execution_count": 7,
      "metadata": {
        "id": "lpRrl7WK10Pq"
      },
      "outputs": [],
      "source": [
        "from keras.callbacks import History\n",
        "history = History()\n",
        "\n",
        "x = model.fit(xs, ys, epochs=500, callbacks=[history], verbose=0)"
      ]
    },
    {
      "cell_type": "markdown",
      "metadata": {
        "id": "kaFIr71H2OZ-"
      },
      "source": [
        "Ok, that we have a model that we have trained to learn the relationship between X and Y, we can use the **model.predict** method to have it figure out the Y for a previously unknown X. So, for example, if X = 2, what do you think Y will be? Take a guess before you run this code:"
      ]
    },
    {
      "cell_type": "code",
      "execution_count": 8,
      "metadata": {
        "id": "oBdjiZZBKk3V",
        "outputId": "effddda4-344d-4516-d0b4-ae2048ef53d9",
        "colab": {
          "base_uri": "https://localhost:8080/"
        }
      },
      "outputs": [
        {
          "output_type": "stream",
          "name": "stdout",
          "text": [
            "{'loss': [30.407384872436523, 24.237733840942383, 19.37728500366211, 15.546989440917969, 12.527297019958496, 10.145475387573242, 8.265624046325684, 6.780821323394775, 5.606944561004639, 4.677804946899414, 3.9413273334503174, 3.3565409183502197, 2.891206741333008, 2.519960403442383, 2.2228424549102783, 1.9841499328613281, 1.7915242910385132, 1.635240912437439, 1.5076478719711304, 1.4027215242385864, 1.3157224655151367, 1.2429183721542358, 1.1813716888427734, 1.1287697553634644, 1.083290934562683, 1.043500304222107, 1.0082669258117676, 0.9767000079154968, 0.948096752166748, 0.9219024777412415, 0.8976790904998779, 0.8750808238983154, 0.8538336157798767, 0.8337206840515137, 0.8145700097084045, 0.7962445616722107, 0.7786354422569275, 0.7616553902626038, 0.7452344298362732, 0.7293162941932678, 0.7138554453849792, 0.6988144516944885, 0.6841629147529602, 0.6698759198188782, 0.6559322476387024, 0.6423142552375793, 0.6290066838264465, 0.6159968972206116, 0.6032733917236328, 0.5908263921737671, 0.578646719455719, 0.5667266845703125, 0.5550586581230164, 0.5436362624168396, 0.5324528813362122, 0.5215027928352356, 0.5107805132865906, 0.5002805590629578, 0.48999810218811035, 0.47992825508117676, 0.4700661599636078, 0.46040764451026917, 0.4509481191635132, 0.44168350100517273, 0.43260952830314636, 0.42372217774391174, 0.4150177538394928, 0.40649232268333435, 0.39814209938049316, 0.3899635970592499, 0.3819531500339508, 0.37410733103752136, 0.3664226233959198, 0.3588959872722626, 0.3515239655971527, 0.34430328011512756, 0.3372310400009155, 0.33030399680137634, 0.3235192596912384, 0.3168739974498749, 0.31036514043807983, 0.3039899468421936, 0.29774582386016846, 0.29162999987602234, 0.2856396436691284, 0.27977243065834045, 0.27402573823928833, 0.2683970630168915, 0.2628840506076813, 0.25748416781425476, 0.2521952688694, 0.2470150738954544, 0.24194125831127167, 0.23697155714035034, 0.23210404813289642, 0.22733651101589203, 0.22266681492328644, 0.2180931121110916, 0.2136133462190628, 0.2092256098985672, 0.20492799580097198, 0.20071865618228912, 0.19659572839736938, 0.19255757331848145, 0.1886022537946701, 0.18472826480865479, 0.1809338480234146, 0.17721740901470184, 0.1735772043466568, 0.17001183331012726, 0.1665196567773819, 0.1630992591381073, 0.1597491353750229, 0.15646778047084808, 0.15325380861759186, 0.15010589361190796, 0.14702261984348297, 0.14400266110897064, 0.1410447657108307, 0.13814759254455566, 0.13530994951725006, 0.13253064453601837, 0.12980835139751434, 0.1271420568227768, 0.12453045696020126, 0.12197253853082657, 0.11946713924407959, 0.11701321601867676, 0.11460968106985092, 0.11225556582212448, 0.1099497377872467, 0.10769129544496536, 0.10547921061515808, 0.10331261903047562, 0.10119051486253738, 0.09911202639341354, 0.09707620739936829, 0.09508219361305237, 0.09312912076711655, 0.09121618419885635, 0.08934256434440613, 0.08750738948583603, 0.08570996671915054, 0.08394942432641983, 0.08222503215074539, 0.0805361270904541, 0.07888181507587433, 0.07726156711578369, 0.07567456364631653, 0.07412011176347733, 0.07259766757488251, 0.07110645622015, 0.06964585930109024, 0.0682152807712555, 0.06681410223245621, 0.06544172018766403, 0.06409749388694763, 0.06278088688850403, 0.061491359025239944, 0.06022828817367554, 0.058991122990846634, 0.05777944251894951, 0.05659260228276253, 0.05543014779686928, 0.05429159477353096, 0.0531764030456543, 0.05208408460021019, 0.05101427808403969, 0.04996639862656593, 0.048940058797597885, 0.047934796661138535, 0.046950217336416245, 0.04598584771156311, 0.04504125192761421, 0.04411604627966881, 0.043209899216890335, 0.04232233390212059, 0.04145301505923271, 0.040601540356874466, 0.0397675484418869, 0.038950685411691666, 0.0381506085395813, 0.03736699000000954, 0.036599427461624146, 0.03584764525294304, 0.035111334174871445, 0.034390103071928024, 0.03368370980024338, 0.032991815358400345, 0.03231417015194893, 0.031650394201278687, 0.03100026398897171, 0.03036349266767502, 0.029739832505583763, 0.02912895195186138, 0.028530603274703026, 0.027944577857851982, 0.027370572090148926, 0.026808373630046844, 0.026257723569869995, 0.025718363001942635, 0.02519010752439499, 0.024672692641615868, 0.024165891110897064, 0.023669498041272163, 0.0231833066791296, 0.022707127034664154, 0.022240689024329185, 0.021783875301480293, 0.02133641205728054, 0.02089814655482769, 0.020468896254897118, 0.02004845440387726, 0.01963665522634983, 0.019233308732509613, 0.018838224932551384, 0.018451279029250145, 0.01807229220867157, 0.01770106703042984, 0.01733747310936451, 0.016981367021799088, 0.01663254201412201, 0.01629091240465641, 0.015956277027726173, 0.015628525987267494, 0.015307503752410412, 0.01499306783080101, 0.014685121364891529, 0.014383475296199322, 0.014088049530982971, 0.013798671774566174, 0.013515234924852848, 0.013237622566521168, 0.012965715490281582, 0.012699391692876816, 0.012438538484275341, 0.012183033861219883, 0.011932804249227047, 0.011687695980072021, 0.011447623372077942, 0.011212472803890705, 0.01098215114325285, 0.010756582953035831, 0.010535634122788906, 0.010319214314222336, 0.010107253678143024, 0.009899651631712914, 0.00969629641622305, 0.009497145190834999, 0.009302062913775444, 0.009111004881560802, 0.008923842571675777, 0.008740542456507683, 0.008561008609831333, 0.008385157212615013, 0.008212928660213947, 0.008044223301112652, 0.007878986187279224, 0.007717158645391464, 0.007558645214885473, 0.0074033890850842, 0.007251307368278503, 0.007102361414581537, 0.006956491619348526, 0.006813590880483389, 0.006673641037195921, 0.006536560133099556, 0.006402285303920507, 0.006270779762417078, 0.006141973193734884, 0.006015819031745195, 0.005892245564609766, 0.00577121926471591, 0.00565267214551568, 0.005536554381251335, 0.005422838032245636, 0.005311448127031326, 0.0052023460157215595, 0.005095477681607008, 0.004990816581994295, 0.004888300318270922, 0.004787890240550041, 0.004689544904977083, 0.004593216348439455, 0.004498873371630907, 0.004406463820487261, 0.0043159471824765205, 0.004227294586598873, 0.004140463192015886, 0.004055424127727747, 0.003972119186073542, 0.003890527645125985, 0.003810609458014369, 0.003732337849214673, 0.00365567859262228, 0.003580583957955241, 0.003507038811221719, 0.003435005433857441, 0.0033644495997577906, 0.003295342670753598, 0.0032276520505547523, 0.0031613484025001526, 0.0030964165925979614, 0.003032816806808114, 0.0029705166816711426, 0.002909495495259762, 0.002849730895832181, 0.0027912009973078966, 0.0027338669169694185, 0.0026777100283652544, 0.0026227126363664865, 0.0025688421446830034, 0.0025160699151456356, 0.002464390592649579, 0.0024137706495821476, 0.0023641905281692743, 0.002315623452886939, 0.0022680582478642464, 0.0022214772179722786, 0.00217584241181612, 0.00213115313090384, 0.0020873770117759705, 0.002044501481577754, 0.00200250674970448, 0.0019613734912127256, 0.001921081100590527, 0.0018816208466887474, 0.0018429771298542619, 0.0018051167717203498, 0.0017680394230410457, 0.001731721218675375, 0.0016961479559540749, 0.0016613126499578357, 0.0016271845670416951, 0.0015937626594677567, 0.001561020384542644, 0.0015289601869881153, 0.001497555640526116, 0.0014667930081486702, 0.001436665654182434, 0.0014071575133129954, 0.001378250657580793, 0.0013499358901754022, 0.001322214026004076, 0.0012950506061315536, 0.0012684498215094209, 0.0012423928128555417, 0.0012168778339400887, 0.001191877294331789, 0.0011673943372443318, 0.0011434165062382817, 0.001119935535825789, 0.0010969308204948902, 0.0010743961902335286, 0.001052331761457026, 0.001030713552609086, 0.0010095435427501798, 0.0009888041531667113, 0.0009684902033768594, 0.0009485955233685672, 0.0009291160386055708, 0.0009100257302634418, 0.0008913360652513802, 0.000873025506734848, 0.0008550971397198737, 0.0008375291363336146, 0.0008203259785659611, 0.0008034766651690006, 0.0007869740948081017, 0.0007708093035034835, 0.0007549756555818021, 0.0007394649437628686, 0.0007242767023853958, 0.0007094019092619419, 0.0006948274094611406, 0.0006805572775192559, 0.0006665778928436339, 0.0006528890808112919, 0.0006394782103598118, 0.0006263412069529295, 0.0006134770810604095, 0.0006008762284182012, 0.0005885313730686903, 0.0005764446686953306, 0.0005646044737659395, 0.0005530048510991037, 0.0005416455678641796, 0.0005305218510329723, 0.0005196252022869885, 0.0005089495098218322, 0.0004984974511899054, 0.0004882557550445199, 0.0004782277683261782, 0.00046840449795126915, 0.00045878300443291664, 0.00044935851474292576, 0.00044012811849825084, 0.00043109021498821676, 0.0004222345014568418, 0.0004135599301662296, 0.0004050654824823141, 0.00039674376603215933, 0.0003885944897774607, 0.00038061311352066696, 0.00037279559182934463, 0.0003651379665825516, 0.00035763884079642594, 0.0003502920735627413, 0.0003430965298321098, 0.00033604924101382494, 0.0003291446773800999, 0.0003223850217182189, 0.00031576622859574854, 0.00030927808256819844, 0.00030292541487142444, 0.0002967043546959758, 0.00029060847009532154, 0.00028464020579122007, 0.00027879266417585313, 0.0002730654086917639, 0.000267458992311731, 0.00026196392718702555, 0.00025658271624706686, 0.0002513126819394529, 0.00024615248548798263, 0.0002410939196124673, 0.0002361419756198302, 0.00023129310284275562, 0.0002265410585096106, 0.0002218904410256073, 0.00021733187895733863, 0.00021286906849127263, 0.0002084962761728093, 0.00020421402587089688, 0.00020001699158456177, 0.00019590881129261106, 0.00019188628357369453, 0.00018794479547068477, 0.0001840836921473965, 0.00018030319188255817, 0.00017659868171904236, 0.0001729723735479638, 0.0001694182719802484, 0.00016593706095591187, 0.0001625288714421913, 0.0001591901236679405, 0.00015592102135997266, 0.00015271852316800505, 0.00014958092651795596, 0.00014650939556304365, 0.0001434985751984641, 0.00014055271458346397, 0.0001376646978314966, 0.00013483667862601578, 0.0001320693554589525, 0.00012935588893014938, 0.0001266978943021968, 0.00012409470218699425, 0.00012154638534411788, 0.00011905033170478418, 0.00011660494055831805, 0.0001142077671829611, 0.0001118630389100872, 0.00010956539335893467, 0.00010731525981100276, 0.00010511046275496483, 0.00010295070387655869, 0.0001008356994134374, 9.876417607301846e-05, 9.673544991528615e-05, 9.474827675148845e-05, 9.28029403439723e-05, 9.089781815418974e-05, 8.903003617888317e-05, 8.720087498659268e-05, 8.5410189058166e-05, 8.365610847249627e-05, 8.193737448891625e-05, 8.025339775485918e-05, 7.860478945076466e-05, 7.699066918576136e-05, 7.540900696767494e-05, 7.386138167930767e-05, 7.234383519971743e-05, 7.085729885147884e-05, 6.9402638473548e-05, 6.797682726755738e-05, 6.658113125013188e-05, 6.521354225696996e-05, 6.387360190274194e-05, 6.256184133235365e-05, 6.127551023382694e-05, 6.001683141221292e-05, 5.878422234673053e-05, 5.757627877756022e-05, 5.639464143314399e-05, 5.5235821491805837e-05, 5.410096491687e-05, 5.298989708535373e-05, 5.190125375520438e-05]}\n"
          ]
        }
      ],
      "source": [
        "print(x.history)"
      ]
    },
    {
      "cell_type": "code",
      "execution_count": 9,
      "metadata": {
        "id": "J72FfBJtKk3V",
        "outputId": "7006a630-b080-45b9-b148-2da07b1b5255",
        "colab": {
          "base_uri": "https://localhost:8080/",
          "height": 447
        }
      },
      "outputs": [
        {
          "output_type": "execute_result",
          "data": {
            "text/plain": [
              "<Axes: >"
            ]
          },
          "metadata": {},
          "execution_count": 9
        },
        {
          "output_type": "display_data",
          "data": {
            "text/plain": [
              "<Figure size 640x480 with 1 Axes>"
            ],
            "image/png": "[encoded data removed]"
          },
          "metadata": {}
        }
      ],
      "source": [
        "import seaborn as sns\n",
        "sns.lineplot(data=x.history['loss'])"
      ]
    },
    {
      "cell_type": "code",
      "execution_count": 10,
      "metadata": {
        "id": "zn2w81vcKk3V",
        "outputId": "3c9e42da-2d75-46e9-e4e8-a36ab689f066",
        "colab": {
          "base_uri": "https://localhost:8080/"
        }
      },
      "outputs": [
        {
          "output_type": "stream",
          "name": "stdout",
          "text": [
            "1/1 [==============================] - 0s 358ms/step\n"
          ]
        },
        {
          "output_type": "execute_result",
          "data": {
            "text/plain": [
              "array([[3.0033522]], dtype=float32)"
            ]
          },
          "metadata": {},
          "execution_count": 10
        }
      ],
      "source": [
        "model.predict([2.0])"
      ]
    },
    {
      "cell_type": "markdown",
      "metadata": {
        "id": "btF2CSFH2iEX"
      },
      "source": [
        "You might have thought 5, right? But it ended up being a little under. Why do you think that is?\n",
        "\n",
        "Remember that neural networks deal with probabilities, so given the data that we fed the NN with, it calculated that there is a very high probability that the relationship between X and Y is Y=2X+1, but with only 2 data points we can't know for sure. As a result, the result for 2 is very close to 5, but not necessarily 5.\n",
        "\n",
        "As you work with neural networks, you'll see this pattern recurring. You will almost always deal with probabilities, not certainties, and will do a little bit of coding to figure out what the result is based on the probabilities, particularly when it comes to classification.\n"
      ]
    },
    {
      "cell_type": "markdown",
      "metadata": {
        "id": "AaXs2yfpKk3X"
      },
      "source": [
        "# Let us use a bigger dataset and compare with Linear regression"
      ]
    },
    {
      "cell_type": "markdown",
      "source": [
        "generating synthetic data"
      ],
      "metadata": {
        "id": "agBvgUiOMO7R"
      }
    },
    {
      "cell_type": "code",
      "source": [
        "# Set a random seed for reproducibility\n",
        "np.random.seed(42)\n",
        "\n",
        "# Generate integer x values from 0 to 100\n",
        "x = np.arange(0, 10, 1)\n",
        "\n",
        "# Assuming a linear relationship with some noise\n",
        "y = 5 * x + 6 + np.random.normal(scale=3, size=len(x))"
      ],
      "metadata": {
        "id": "fPuo9x4xMSR3"
      },
      "execution_count": 37,
      "outputs": []
    },
    {
      "cell_type": "code",
      "source": [
        "print(x)\n",
        "print(y)"
      ],
      "metadata": {
        "id": "WYnxzOwcMgPI",
        "outputId": "e1548ed3-f35e-4fb5-f728-dd81d19ed74a",
        "colab": {
          "base_uri": "https://localhost:8080/"
        }
      },
      "execution_count": 30,
      "outputs": [
        {
          "output_type": "stream",
          "name": "stdout",
          "text": [
            "[0 1 2 3 4 5 6 7 8 9]\n",
            "[ 2.49014246  5.5852071  12.94306561 20.56908957 20.29753988 25.29758913\n",
            " 35.73763845 38.30230419 39.59157684 47.62768013]\n"
          ]
        }
      ]
    },
    {
      "cell_type": "code",
      "execution_count": 39,
      "metadata": {
        "id": "jZeIrQt6Kk3X",
        "outputId": "0f795838-af9b-4505-b011-98cba6e97237",
        "colab": {
          "base_uri": "https://localhost:8080/"
        }
      },
      "outputs": [
        {
          "output_type": "execute_result",
          "data": {
            "text/plain": [
              "<keras.src.callbacks.History at 0x781e674477c0>"
            ]
          },
          "metadata": {},
          "execution_count": 39
        }
      ],
      "source": [
        "#xs = np.array([ 0,  1,  2,  3,  4,  5,  6,  7,  8,  9])\n",
        "#ys = np.array([10, 20, 25, 30, 40, 45, 40, 50, 60, 55])\n",
        "model = tf.keras.Sequential([keras.layers.Dense(units=1, input_shape=[1])])\n",
        "model.compile(optimizer='sgd', loss='mean_squared_error')\n",
        "\n",
        "model.fit(x, y, epochs=1000, verbose=0)"
      ]
    },
    {
      "cell_type": "code",
      "execution_count": 40,
      "metadata": {
        "id": "qmqm2pygKk3X",
        "outputId": "957fa3bf-4331-4b61-c980-26f3c31a6d1b",
        "colab": {
          "base_uri": "https://localhost:8080/"
        }
      },
      "outputs": [
        {
          "output_type": "stream",
          "name": "stderr",
          "text": [
            "WARNING:tensorflow:6 out of the last 7 calls to <function Model.make_predict_function.<locals>.predict_function at 0x781e6b2fa3b0> triggered tf.function retracing. Tracing is expensive and the excessive number of tracings could be due to (1) creating @tf.function repeatedly in a loop, (2) passing tensors with different shapes, (3) passing Python objects instead of tensors. For (1), please define your @tf.function outside of the loop. For (2), @tf.function has reduce_retracing=True option that can avoid unnecessary retracing. For (3), please refer to https://www.tensorflow.org/guide/function#controlling_retracing and https://www.tensorflow.org/api_docs/python/tf/function for  more details.\n"
          ]
        },
        {
          "output_type": "stream",
          "name": "stdout",
          "text": [
            "1/1 [==============================] - 0s 60ms/step\n",
            "[[107.07242]]\n"
          ]
        }
      ],
      "source": [
        "print(model.predict([20]))"
      ]
    },
    {
      "cell_type": "markdown",
      "metadata": {
        "id": "dsg2XDS1Kk3X"
      },
      "source": [
        "# Linear Regression"
      ]
    },
    {
      "cell_type": "code",
      "execution_count": 38,
      "metadata": {
        "id": "duiOp-OtKk3X",
        "outputId": "ae894e67-c74c-45a7-8bc6-eb8319765bbc",
        "colab": {
          "base_uri": "https://localhost:8080/",
          "height": 430
        }
      },
      "outputs": [
        {
          "output_type": "display_data",
          "data": {
            "text/plain": [
              "<Figure size 640x480 with 1 Axes>"
            ],
            "image/png": "[encoded data removed]"
          },
          "metadata": {}
        }
      ],
      "source": [
        "from numpy.polynomial.polynomial import polyfit\n",
        "import matplotlib.pyplot as plt\n",
        "\n",
        "#x = np.array([ 0,  1,  2,  3,  4,  5,  6,  7,  8,  9])\n",
        "#y = np.array([10, 20, 25, 30, 40, 45, 40, 50, 60, 55])\n",
        "b, m = polyfit(x,y,1)\n",
        "\n",
        "y_hat = m*x+b\n",
        "\n",
        "plt.plot(x, y, '.')\n",
        "plt.plot(x, y_hat, '-')\n",
        "plt.show()"
      ]
    },
    {
      "cell_type": "code",
      "execution_count": 41,
      "metadata": {
        "id": "-PzUS9vHKk3X",
        "outputId": "0a6fd015-e755-4e04-8499-147308bf528e",
        "colab": {
          "base_uri": "https://localhost:8080/"
        }
      },
      "outputs": [
        {
          "output_type": "stream",
          "name": "stdout",
          "text": [
            "107.02331605179577\n"
          ]
        }
      ],
      "source": [
        "x = 20\n",
        "print(m*x+b)"
      ]
    },
    {
      "cell_type": "markdown",
      "metadata": {
        "id": "rpyBUG9iKk3X"
      },
      "source": [
        "Note the similarity in value!"
      ]
    },
    {
      "cell_type": "code",
      "source": [],
      "metadata": {
        "id": "Y6MAhdxGOJ7i"
      },
      "execution_count": null,
      "outputs": []
    }
  ],
  "metadata": {
    "colab": {
      "name": "C1_W1_Lab_1_hello_world_nn.ipynb",
      "provenance": [],
      "toc_visible": true
    },
    "kernelspec": {
      "display_name": "Python 3",
      "language": "python",
      "name": "python3"
    },
    "language_info": {
      "codemirror_mode": {
        "name": "ipython",
        "version": 3
      },
      "file_extension": ".py",
      "mimetype": "text/x-python",
      "name": "python",
      "nbconvert_exporter": "python",
      "pygments_lexer": "ipython3",
      "version": "3.9.6"
    }
  },
  "nbformat": 4,
  "nbformat_minor": 0
}