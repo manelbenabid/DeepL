{
 "cells": [
  {
   "cell_type": "markdown",
   "metadata": {},
   "source": [
    "\n",
    "# Fundamentals of Deep Learning \n",
    "\n",
    "*Notebook 2.1: Logistic Activation Function*"
   ]
  },
  {
   "cell_type": "markdown",
   "metadata": {},
   "source": [
    "# Activation Functions"
   ]
  },
  {
   "cell_type": "markdown",
   "metadata": {},
   "source": [
    "Activation functions are biologically inspired and are abstractions representing the rate of action potential firing in the cell.  They define the output of a node given a set of inputs while keeping this output restricted to a certain limit.  The importance of activation functions stems from the fact that they introduce non-linearity into the neural network.  They should be nonlinear to encode complex patterns of the data."
   ]
  },
  {
   "cell_type": "markdown",
   "metadata": {},
   "source": [
    "## Desirable Features of an Activation Function "
   ]
  },
  {
   "cell_type": "markdown",
   "metadata": {},
   "source": [
    "1. Ability to avoid the vanishing gradient problem.\n",
    "\n",
    "2. Zero-Centered: Output of the activation function should be symmetrical at zero so that the gradients do not shift to a particular direction.\n",
    "\n",
    "3. Computational Expense: Activation functions are applied after every layer and need to be calculated millions of times in deep networks. Hence, they should be computationally inexpensive to calculate.\n",
    "\n",
    "4. Differentiable: As mentioned, neural networks are trained using the gradient descent process, hence the layers in the model need to differentiable or at least differentiable in parts. This is a necessary requirement for a function to work as activation function layer."
   ]
  },
  {
   "cell_type": "code",
   "execution_count": 1,
   "metadata": {},
   "outputs": [],
   "source": [
    "import matplotlib.pylab as plt\n",
    "import numpy as np"
   ]
  },
  {
   "cell_type": "markdown",
   "metadata": {},
   "source": [
    "## Sigmoid Function"
   ]
  },
  {
   "cell_type": "markdown",
   "metadata": {},
   "source": [
    "The sigmoid function is a special form of the logistic function and is usually denoted by $\\sigma(x)$. It is given by:\n",
    "\n",
    "$\\text{Sigmoid}(x) = \\sigma(x) = \\frac{1}{1 + e^{-x}}$\n",
    "\n",
    "The sigmoid function is called a squashing function as its domain is the set of all real numbers, and its range is (0, 1). The shape of the function for all possible inputs is an S-shape from zero up through 0.5 to 1.0.  If the input to the function is either a very large negative number or a very large positive number,  the output is always between 0 and 1.  Same goes for any number between $-\\infty$ and $+\\infty$.  \n",
    "\n",
    "Using a linear activation function in a neural network would lead to a model that can only learn linearly separable problems.  We can add hidden layers and sigmoid activation functions in order for the neural network to learn a non-linearly separable problem. \n"
   ]
  },
  {
   "cell_type": "code",
   "execution_count": 3,
   "metadata": {},
   "outputs": [
    {
     "data": {
      "image/png": "[encoded data removed]",
      "text/plain": [
       "<Figure size 432x288 with 1 Axes>"
      ]
     },
     "metadata": {
      "needs_background": "light"
     },
     "output_type": "display_data"
    }
   ],
   "source": [
    "x_values = np.linspace(-8, 8, 1000)\n",
    "f = (1/(1+np.exp(-x_values)))\n",
    "plt.plot(x_values, f, 'red')\n",
    "plt.xlabel('x')\n",
    "plt.ylabel(\"Sigmoid(X)\")\n",
    "plt.show()"
   ]
  },
  {
   "cell_type": "markdown",
   "metadata": {},
   "source": [
    "## Hyperbolic Tangent"
   ]
  },
  {
   "cell_type": "markdown",
   "metadata": {},
   "source": [
    "The hyperbolic tangent function, or tanh for short, is a nonlinear activation function that is similar to the sigmoid function (in terms of shaep).  Its output values vary between -1.0 and 1.0. In the later 1990s and through the 2000s, the tanh function was preferred over the sigmoid activation function as models that used it were easier to train and often had better predictive performance.  It is generally noted that the hyperbolic tangent activation function typically performs better than the logistic sigmoid.\n",
    "\n",
    "\n",
    "\n",
    "$\\text{Tanh}(x) = \\tanh(x) = \\frac{e^{x} - e^{-x}} {e^x + e^{-x}}$\n",
    "\n",
    "Two main issues with both the sigmoid and tanh functions:\n",
    "\n",
    "1. A general problem is that both the sigmoid and tanh functions saturate. This means that large values snap to 1.0 and small values snap to -1 or 0 for tanh and sigmoid respectively. Further, the functions are only really sensitive to changes around their mid-point of their input, such as 0.5 for sigmoid and 0.0 for tanh.\n",
    "\n",
    "2. It was noted that layers deep in large networks using these nonlinear activation functions fail to receive useful gradient information. Error is back propagated through the network and used to update the weights. The amount of error decreases dramatically with each additional layer through which it is propagated, given the derivative of the chosen activation function. This is called the vanishing gradient problem and prevents deep (multi-layered) networks from learning effectively."
   ]
  },
  {
   "cell_type": "code",
   "execution_count": 4,
   "metadata": {},
   "outputs": [
    {
     "data": {
      "image/png": "[encoded data removed]",
      "text/plain": [
       "<Figure size 432x288 with 1 Axes>"
      ]
     },
     "metadata": {
      "needs_background": "light"
     },
     "output_type": "display_data"
    }
   ],
   "source": [
    "x_values = np.linspace(-3, 3, 10000)\n",
    "f = np.tanh(x_values)\n",
    "plt.plot(x_values, f, 'red')\n",
    "plt.xlabel('x')\n",
    "plt.ylabel(\"Tanh(X)\")\n",
    "plt.show()"
   ]
  },
  {
   "cell_type": "code",
   "execution_count": null,
   "metadata": {},
   "outputs": [],
   "source": []
  }
 ],
 "metadata": {
  "colab": {
   "collapsed_sections": [],
   "name": "C1_W1_Lab_1_hello_world_nn.ipynb",
   "provenance": [],
   "toc_visible": true
  },
  "kernelspec": {
   "display_name": "Python 3",
   "language": "python",
   "name": "python3"
  },
  "language_info": {
   "codemirror_mode": {
    "name": "ipython",
    "version": 3
   },
   "file_extension": ".py",
   "mimetype": "text/x-python",
   "name": "python",
   "nbconvert_exporter": "python",
   "pygments_lexer": "ipython3",
   "version": "3.9.6"
  }
 },
 "nbformat": 4,
 "nbformat_minor": 4
}
